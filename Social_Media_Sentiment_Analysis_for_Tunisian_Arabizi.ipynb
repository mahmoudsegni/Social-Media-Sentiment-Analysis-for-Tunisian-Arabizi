{
  "nbformat": 4,
  "nbformat_minor": 0,
  "metadata": {
    "colab": {
      "name": "Social Media Sentiment Analysis for Tunisian Arabizi.ipynb",
      "provenance": [],
      "collapsed_sections": []
    },
    "kernelspec": {
      "display_name": "Python 3",
      "name": "python3"
    }
  },
  "cells": [
    {
      "cell_type": "code",
      "metadata": {
        "colab": {
          "base_uri": "https://localhost:8080/"
        },
        "id": "TFwzV6T2hFkH",
        "outputId": "97f5e034-57bc-477f-ea71-6e9c0431b06e"
      },
      "source": [
        "from google.colab import drive\n",
        "drive.mount('/content/drive')"
      ],
      "execution_count": null,
      "outputs": [
        {
          "output_type": "stream",
          "text": [
            "Drive already mounted at /content/drive; to attempt to forcibly remount, call drive.mount(\"/content/drive\", force_remount=True).\n"
          ],
          "name": "stdout"
        }
      ]
    },
    {
      "cell_type": "code",
      "metadata": {
        "id": "nU7A-4-svJVx"
      },
      "source": [
        "import pandas as pd\r\n",
        "ss=pd.read_csv('/content/drive/MyDrive/zindi/icompass/SampleSubmission.csv')\r\n",
        "test=pd.read_csv('/content/drive/MyDrive/zindi/icompass/Test.csv')\r\n",
        "train=pd.read_csv('/content/drive/MyDrive/zindi/icompass/Train.csv')"
      ],
      "execution_count": null,
      "outputs": []
    },
    {
      "cell_type": "code",
      "metadata": {
        "colab": {
          "base_uri": "https://localhost:8080/"
        },
        "id": "uyKQZINEvJSY",
        "outputId": "d44910a1-cd30-4fb4-9469-46d8ea032e88"
      },
      "source": [
        "## MANDATORY \r\n",
        "## [IMPORT NECESSARY LIBRARIES]\r\n",
        "\r\n",
        "import gensim\r\n",
        "import nltk\r\n",
        "import sklearn\r\n",
        "\r\n",
        "import numpy as np\r\n",
        "import matplotlib\r\n",
        "\r\n",
        "import re\r\n",
        "import codecs\r\n",
        "import itertools\r\n",
        "import matplotlib.pyplot as plt\r\n",
        "from sklearn.pipeline import Pipeline\r\n",
        "from sklearn.feature_extraction.text import TfidfTransformer\r\n",
        "\r\n",
        "print ('DONE [IMPORT NECESSARY LIBRARIES]')"
      ],
      "execution_count": null,
      "outputs": [
        {
          "output_type": "stream",
          "text": [
            "DONE [IMPORT NECESSARY LIBRARIES]\n"
          ],
          "name": "stdout"
        }
      ]
    },
    {
      "cell_type": "code",
      "metadata": {
        "colab": {
          "base_uri": "https://localhost:8080/"
        },
        "id": "parmncHevJQC",
        "outputId": "b8edfc02-10c9-424c-d5e9-719282468e48"
      },
      "source": [
        "## MANDATORY \r\n",
        "## [PREPROCESS] Text Cleaning\r\n",
        "\r\n",
        "def standardize_text(df, text_field):\r\n",
        "    # normalize by turning all letters into lowercase\r\n",
        "    df[text_field] = df[text_field].str.lower()\r\n",
        "    # get rid of URLS\r\n",
        "    df[text_field] = df[text_field].apply(lambda elem: re.sub(r\"http\\S+\", \"\", elem))  \r\n",
        "    return df\r\n",
        "\r\n",
        "# call the text cleaning function\r\n",
        "train = standardize_text(train, \"text\")\r\n",
        "\r\n",
        "print ('DONE - [PREPROCESS] Text Cleaning')"
      ],
      "execution_count": null,
      "outputs": [
        {
          "output_type": "stream",
          "text": [
            "DONE - [PREPROCESS] Text Cleaning\n"
          ],
          "name": "stdout"
        }
      ]
    },
    {
      "cell_type": "code",
      "metadata": {
        "colab": {
          "base_uri": "https://localhost:8080/",
          "height": 195
        },
        "id": "jajERBonvJOK",
        "outputId": "b687e670-389d-41c5-a264-f3cad547774d"
      },
      "source": [
        "train.head()"
      ],
      "execution_count": null,
      "outputs": [
        {
          "output_type": "execute_result",
          "data": {
            "text/html": [
              "<div>\n",
              "<style scoped>\n",
              "    .dataframe tbody tr th:only-of-type {\n",
              "        vertical-align: middle;\n",
              "    }\n",
              "\n",
              "    .dataframe tbody tr th {\n",
              "        vertical-align: top;\n",
              "    }\n",
              "\n",
              "    .dataframe thead th {\n",
              "        text-align: right;\n",
              "    }\n",
              "</style>\n",
              "<table border=\"1\" class=\"dataframe\">\n",
              "  <thead>\n",
              "    <tr style=\"text-align: right;\">\n",
              "      <th></th>\n",
              "      <th>ID</th>\n",
              "      <th>text</th>\n",
              "      <th>label</th>\n",
              "    </tr>\n",
              "  </thead>\n",
              "  <tbody>\n",
              "    <tr>\n",
              "      <th>0</th>\n",
              "      <td>13P0QT0</td>\n",
              "      <td>3sbaaaaaaaaaaaaaaaaaaaa lek ou le seim riahi o...</td>\n",
              "      <td>-1</td>\n",
              "    </tr>\n",
              "    <tr>\n",
              "      <th>1</th>\n",
              "      <td>SKCLXCJ</td>\n",
              "      <td>cha3eb fey9elkoum menghir ta7ayoul ou kressi</td>\n",
              "      <td>-1</td>\n",
              "    </tr>\n",
              "    <tr>\n",
              "      <th>2</th>\n",
              "      <td>V1TVXIJ</td>\n",
              "      <td>bereau degage nathef ya slim walahi ya7chiw fi...</td>\n",
              "      <td>-1</td>\n",
              "    </tr>\n",
              "    <tr>\n",
              "      <th>3</th>\n",
              "      <td>U0TTYY8</td>\n",
              "      <td>ak slouma</td>\n",
              "      <td>1</td>\n",
              "    </tr>\n",
              "    <tr>\n",
              "      <th>4</th>\n",
              "      <td>68DX797</td>\n",
              "      <td>entom titmanou lina a7na 3iid moubarik a7na ch...</td>\n",
              "      <td>-1</td>\n",
              "    </tr>\n",
              "  </tbody>\n",
              "</table>\n",
              "</div>"
            ],
            "text/plain": [
              "        ID                                               text  label\n",
              "0  13P0QT0  3sbaaaaaaaaaaaaaaaaaaaa lek ou le seim riahi o...     -1\n",
              "1  SKCLXCJ       cha3eb fey9elkoum menghir ta7ayoul ou kressi     -1\n",
              "2  V1TVXIJ  bereau degage nathef ya slim walahi ya7chiw fi...     -1\n",
              "3  U0TTYY8                                          ak slouma      1\n",
              "4  68DX797  entom titmanou lina a7na 3iid moubarik a7na ch...     -1"
            ]
          },
          "metadata": {
            "tags": []
          },
          "execution_count": 5
        }
      ]
    },
    {
      "cell_type": "code",
      "metadata": {
        "colab": {
          "base_uri": "https://localhost:8080/",
          "height": 166
        },
        "id": "a-LKxHAsvJL_",
        "outputId": "70923b0c-d857-4915-c703-b268a32751ef"
      },
      "source": [
        "train.groupby(\"label\").count()"
      ],
      "execution_count": null,
      "outputs": [
        {
          "output_type": "execute_result",
          "data": {
            "text/html": [
              "<div>\n",
              "<style scoped>\n",
              "    .dataframe tbody tr th:only-of-type {\n",
              "        vertical-align: middle;\n",
              "    }\n",
              "\n",
              "    .dataframe tbody tr th {\n",
              "        vertical-align: top;\n",
              "    }\n",
              "\n",
              "    .dataframe thead th {\n",
              "        text-align: right;\n",
              "    }\n",
              "</style>\n",
              "<table border=\"1\" class=\"dataframe\">\n",
              "  <thead>\n",
              "    <tr style=\"text-align: right;\">\n",
              "      <th></th>\n",
              "      <th>ID</th>\n",
              "      <th>text</th>\n",
              "    </tr>\n",
              "    <tr>\n",
              "      <th>label</th>\n",
              "      <th></th>\n",
              "      <th></th>\n",
              "    </tr>\n",
              "  </thead>\n",
              "  <tbody>\n",
              "    <tr>\n",
              "      <th>-1</th>\n",
              "      <td>29295</td>\n",
              "      <td>29295</td>\n",
              "    </tr>\n",
              "    <tr>\n",
              "      <th>0</th>\n",
              "      <td>2466</td>\n",
              "      <td>2466</td>\n",
              "    </tr>\n",
              "    <tr>\n",
              "      <th>1</th>\n",
              "      <td>38239</td>\n",
              "      <td>38239</td>\n",
              "    </tr>\n",
              "  </tbody>\n",
              "</table>\n",
              "</div>"
            ],
            "text/plain": [
              "          ID   text\n",
              "label              \n",
              "-1     29295  29295\n",
              " 0      2466   2466\n",
              " 1     38239  38239"
            ]
          },
          "metadata": {
            "tags": []
          },
          "execution_count": 6
        }
      ]
    },
    {
      "cell_type": "code",
      "metadata": {
        "colab": {
          "base_uri": "https://localhost:8080/",
          "height": 195
        },
        "id": "8e42tcR0vJJY",
        "outputId": "abc7a0a8-9809-4227-edcd-1ecd67150109"
      },
      "source": [
        "## MANDATORY\r\n",
        "## [PREPROCESS] Tokenize\r\n",
        "\r\n",
        "from nltk.tokenize import RegexpTokenizer\r\n",
        "\r\n",
        "tokenizer = RegexpTokenizer(r'\\w+')\r\n",
        "\r\n",
        "train[\"tokens\"] = train[\"text\"].apply(tokenizer.tokenize)\r\n",
        "train.head()"
      ],
      "execution_count": null,
      "outputs": [
        {
          "output_type": "execute_result",
          "data": {
            "text/html": [
              "<div>\n",
              "<style scoped>\n",
              "    .dataframe tbody tr th:only-of-type {\n",
              "        vertical-align: middle;\n",
              "    }\n",
              "\n",
              "    .dataframe tbody tr th {\n",
              "        vertical-align: top;\n",
              "    }\n",
              "\n",
              "    .dataframe thead th {\n",
              "        text-align: right;\n",
              "    }\n",
              "</style>\n",
              "<table border=\"1\" class=\"dataframe\">\n",
              "  <thead>\n",
              "    <tr style=\"text-align: right;\">\n",
              "      <th></th>\n",
              "      <th>ID</th>\n",
              "      <th>text</th>\n",
              "      <th>label</th>\n",
              "      <th>tokens</th>\n",
              "    </tr>\n",
              "  </thead>\n",
              "  <tbody>\n",
              "    <tr>\n",
              "      <th>0</th>\n",
              "      <td>13P0QT0</td>\n",
              "      <td>3sbaaaaaaaaaaaaaaaaaaaa lek ou le seim riahi o...</td>\n",
              "      <td>-1</td>\n",
              "      <td>[3sbaaaaaaaaaaaaaaaaaaaa, lek, ou, le, seim, r...</td>\n",
              "    </tr>\n",
              "    <tr>\n",
              "      <th>1</th>\n",
              "      <td>SKCLXCJ</td>\n",
              "      <td>cha3eb fey9elkoum menghir ta7ayoul ou kressi</td>\n",
              "      <td>-1</td>\n",
              "      <td>[cha3eb, fey9elkoum, menghir, ta7ayoul, ou, kr...</td>\n",
              "    </tr>\n",
              "    <tr>\n",
              "      <th>2</th>\n",
              "      <td>V1TVXIJ</td>\n",
              "      <td>bereau degage nathef ya slim walahi ya7chiw fi...</td>\n",
              "      <td>-1</td>\n",
              "      <td>[bereau, degage, nathef, ya, slim, walahi, ya7...</td>\n",
              "    </tr>\n",
              "    <tr>\n",
              "      <th>3</th>\n",
              "      <td>U0TTYY8</td>\n",
              "      <td>ak slouma</td>\n",
              "      <td>1</td>\n",
              "      <td>[ak, slouma]</td>\n",
              "    </tr>\n",
              "    <tr>\n",
              "      <th>4</th>\n",
              "      <td>68DX797</td>\n",
              "      <td>entom titmanou lina a7na 3iid moubarik a7na ch...</td>\n",
              "      <td>-1</td>\n",
              "      <td>[entom, titmanou, lina, a7na, 3iid, moubarik, ...</td>\n",
              "    </tr>\n",
              "  </tbody>\n",
              "</table>\n",
              "</div>"
            ],
            "text/plain": [
              "        ID  ...                                             tokens\n",
              "0  13P0QT0  ...  [3sbaaaaaaaaaaaaaaaaaaaa, lek, ou, le, seim, r...\n",
              "1  SKCLXCJ  ...  [cha3eb, fey9elkoum, menghir, ta7ayoul, ou, kr...\n",
              "2  V1TVXIJ  ...  [bereau, degage, nathef, ya, slim, walahi, ya7...\n",
              "3  U0TTYY8  ...                                       [ak, slouma]\n",
              "4  68DX797  ...  [entom, titmanou, lina, a7na, 3iid, moubarik, ...\n",
              "\n",
              "[5 rows x 4 columns]"
            ]
          },
          "metadata": {
            "tags": []
          },
          "execution_count": 7
        }
      ]
    },
    {
      "cell_type": "code",
      "metadata": {
        "colab": {
          "base_uri": "https://localhost:8080/",
          "height": 402
        },
        "id": "ya_vOf2T0TWm",
        "outputId": "fc620175-a32f-4733-abb1-e7d542b4e4ea"
      },
      "source": [
        "train.drop(columns='ID')"
      ],
      "execution_count": null,
      "outputs": [
        {
          "output_type": "execute_result",
          "data": {
            "text/html": [
              "<div>\n",
              "<style scoped>\n",
              "    .dataframe tbody tr th:only-of-type {\n",
              "        vertical-align: middle;\n",
              "    }\n",
              "\n",
              "    .dataframe tbody tr th {\n",
              "        vertical-align: top;\n",
              "    }\n",
              "\n",
              "    .dataframe thead th {\n",
              "        text-align: right;\n",
              "    }\n",
              "</style>\n",
              "<table border=\"1\" class=\"dataframe\">\n",
              "  <thead>\n",
              "    <tr style=\"text-align: right;\">\n",
              "      <th></th>\n",
              "      <th>text</th>\n",
              "      <th>label</th>\n",
              "      <th>tokens</th>\n",
              "    </tr>\n",
              "  </thead>\n",
              "  <tbody>\n",
              "    <tr>\n",
              "      <th>0</th>\n",
              "      <td>3sbaaaaaaaaaaaaaaaaaaaa lek ou le seim riahi o...</td>\n",
              "      <td>-1</td>\n",
              "      <td>[3sbaaaaaaaaaaaaaaaaaaaa, lek, ou, le, seim, r...</td>\n",
              "    </tr>\n",
              "    <tr>\n",
              "      <th>1</th>\n",
              "      <td>cha3eb fey9elkoum menghir ta7ayoul ou kressi</td>\n",
              "      <td>-1</td>\n",
              "      <td>[cha3eb, fey9elkoum, menghir, ta7ayoul, ou, kr...</td>\n",
              "    </tr>\n",
              "    <tr>\n",
              "      <th>2</th>\n",
              "      <td>bereau degage nathef ya slim walahi ya7chiw fi...</td>\n",
              "      <td>-1</td>\n",
              "      <td>[bereau, degage, nathef, ya, slim, walahi, ya7...</td>\n",
              "    </tr>\n",
              "    <tr>\n",
              "      <th>3</th>\n",
              "      <td>ak slouma</td>\n",
              "      <td>1</td>\n",
              "      <td>[ak, slouma]</td>\n",
              "    </tr>\n",
              "    <tr>\n",
              "      <th>4</th>\n",
              "      <td>entom titmanou lina a7na 3iid moubarik a7na ch...</td>\n",
              "      <td>-1</td>\n",
              "      <td>[entom, titmanou, lina, a7na, 3iid, moubarik, ...</td>\n",
              "    </tr>\n",
              "    <tr>\n",
              "      <th>...</th>\n",
              "      <td>...</td>\n",
              "      <td>...</td>\n",
              "      <td>...</td>\n",
              "    </tr>\n",
              "    <tr>\n",
              "      <th>69995</th>\n",
              "      <td>pff bayna beli kbira f wejhakk yakhiii rouhi r...</td>\n",
              "      <td>-1</td>\n",
              "      <td>[pff, bayna, beli, kbira, f, wejhakk, yakhiii,...</td>\n",
              "    </tr>\n",
              "    <tr>\n",
              "      <th>69996</th>\n",
              "      <td>aman lmara jeya zidou t3am9ou fel a7deeth akth...</td>\n",
              "      <td>-1</td>\n",
              "      <td>[aman, lmara, jeya, zidou, t3am9ou, fel, a7dee...</td>\n",
              "    </tr>\n",
              "    <tr>\n",
              "      <th>69997</th>\n",
              "      <td>winha nakhtabha hhhhh</td>\n",
              "      <td>-1</td>\n",
              "      <td>[winha, nakhtabha, hhhhh]</td>\n",
              "    </tr>\n",
              "    <tr>\n",
              "      <th>69998</th>\n",
              "      <td>fachel enta w houwa</td>\n",
              "      <td>-1</td>\n",
              "      <td>[fachel, enta, w, houwa]</td>\n",
              "    </tr>\n",
              "    <tr>\n",
              "      <th>69999</th>\n",
              "      <td>nchla lyouma nesm3ou a5beer bahiya 3la jem3iya</td>\n",
              "      <td>1</td>\n",
              "      <td>[nchla, lyouma, nesm3ou, a5beer, bahiya, 3la, ...</td>\n",
              "    </tr>\n",
              "  </tbody>\n",
              "</table>\n",
              "<p>70000 rows × 3 columns</p>\n",
              "</div>"
            ],
            "text/plain": [
              "                                                    text  ...                                             tokens\n",
              "0      3sbaaaaaaaaaaaaaaaaaaaa lek ou le seim riahi o...  ...  [3sbaaaaaaaaaaaaaaaaaaaa, lek, ou, le, seim, r...\n",
              "1           cha3eb fey9elkoum menghir ta7ayoul ou kressi  ...  [cha3eb, fey9elkoum, menghir, ta7ayoul, ou, kr...\n",
              "2      bereau degage nathef ya slim walahi ya7chiw fi...  ...  [bereau, degage, nathef, ya, slim, walahi, ya7...\n",
              "3                                              ak slouma  ...                                       [ak, slouma]\n",
              "4      entom titmanou lina a7na 3iid moubarik a7na ch...  ...  [entom, titmanou, lina, a7na, 3iid, moubarik, ...\n",
              "...                                                  ...  ...                                                ...\n",
              "69995  pff bayna beli kbira f wejhakk yakhiii rouhi r...  ...  [pff, bayna, beli, kbira, f, wejhakk, yakhiii,...\n",
              "69996  aman lmara jeya zidou t3am9ou fel a7deeth akth...  ...  [aman, lmara, jeya, zidou, t3am9ou, fel, a7dee...\n",
              "69997                              winha nakhtabha hhhhh  ...                          [winha, nakhtabha, hhhhh]\n",
              "69998                                fachel enta w houwa  ...                           [fachel, enta, w, houwa]\n",
              "69999     nchla lyouma nesm3ou a5beer bahiya 3la jem3iya  ...  [nchla, lyouma, nesm3ou, a5beer, bahiya, 3la, ...\n",
              "\n",
              "[70000 rows x 3 columns]"
            ]
          },
          "metadata": {
            "tags": []
          },
          "execution_count": 8
        }
      ]
    },
    {
      "cell_type": "code",
      "metadata": {
        "id": "tHiHSDCv0bG6"
      },
      "source": [
        ""
      ],
      "execution_count": null,
      "outputs": []
    },
    {
      "cell_type": "code",
      "metadata": {
        "id": "zND9j6pYz9F4"
      },
      "source": [
        ""
      ],
      "execution_count": null,
      "outputs": []
    },
    {
      "cell_type": "code",
      "metadata": {
        "colab": {
          "base_uri": "https://localhost:8080/"
        },
        "id": "tzYsMmIFvJHK",
        "outputId": "8a68465a-7d07-457a-caab-15eb7f791ec6"
      },
      "source": [
        "## [EDA] Explore words and sentences\r\n",
        "\r\n",
        "all_words = [word for tokens in train[\"tokens\"] for word in tokens]\r\n",
        "\r\n",
        "sentence_lengths = [len(tokens) for tokens in train[\"tokens\"]]\r\n",
        "\r\n",
        "VOCAB = sorted(list(set(all_words)))\r\n",
        "\r\n",
        "print(\"%s words total, with a vocabulary size of %s\" % (len(all_words), len(VOCAB)))"
      ],
      "execution_count": null,
      "outputs": [
        {
          "output_type": "stream",
          "text": [
            "688679 words total, with a vocabulary size of 144241\n"
          ],
          "name": "stdout"
        }
      ]
    },
    {
      "cell_type": "code",
      "metadata": {
        "colab": {
          "base_uri": "https://localhost:8080/"
        },
        "id": "bAjw1SMrvJB5",
        "outputId": "0cbd24fe-2ce6-4bd8-93a9-045c7fa9a7de"
      },
      "source": [
        "# [EDA] Explore Vocabulary\r\n",
        "\r\n",
        "# What are the words in the vocabulary\r\n",
        "print (VOCAB[0:100])\r\n",
        "\r\n",
        "# What are the most commonly occuring words\r\n",
        "from collections import Counter\r\n",
        "count_all_words = Counter(all_words)\r\n",
        "\r\n",
        "# get the top 100 most common occuring words\r\n",
        "count_all_words.most_common(100)"
      ],
      "execution_count": null,
      "outputs": [
        {
          "output_type": "stream",
          "text": [
            "['0', '00', '000', '0000', '00000', '000000', '0000000', '00000000', '000000000', '00000000000', '000000000000', '00000000000000000', '0000000000000000000', '000000000000000000000', '000000000000000000000000000', '000000000000000000000000000000000', '0000000000000000000000000000000000000000000', '00000000000000000000000000000000000000000000000000000000000', '000001', '00001', '0001', '000dt', '000marra', '000obama', '001', '0021624085122', '0021697056148', '004725', '007', '009', '00m', '01', '02', '03', '04', '05', '05er', '05tou', '06', '0626718356', '06529205', '07', '0705', '08', '09', '0ff', '0malyon', '0mk', '0ui', '0vrmt', '0zéro0', '1', '10', '100', '1000', '10000', '100000', '1000000', '10000000', '100000000', '1000000000', '10000000000', '100000000000', '10000000000000', '100000000000000', '1000000000000000', '10000000000000000', '1000000000000000000', '100000000000000000000000000', '100000000000000000000000000000000000000', '1000000000000000000000000000000000000000', '10000000000000000000000000000000000000000', '100000000000000000000000000000000000000000', '1000000000000000000000000000000000000000000000000000000', '1000000000000000000000000000000000000000000000000000000000000', '100000000000000000000000000000000000000000000000000000000000000000000', '10000000000000000000000000000000000000000000000000000000000000000000000000000000000000000000000000000000000000000000000000000000000000000000000000000000000000000000000000000000000000000000', '100000000000000000000000000000000000000000000000000000000000000000001', '10000000000000000000000033336543899', '100000000000000000005ire', '100000005ir', '1000000fois', '1000000ria7i', '1000000saha', '100000fois', '10000mabrouk', '10005ir', '1000chbebe', '1000choker', '1000d', '1000kadhya', '1000khir', '1000kiir', '1000kir', '1000mabrouk', '1000pour', '1000rajel', '1000snè', '100986422789000865432112678990', '100ans']\n"
          ],
          "name": "stdout"
        },
        {
          "output_type": "execute_result",
          "data": {
            "text/plain": [
              "[('w', 19465),\n",
              " ('ya', 8962),\n",
              " ('fi', 8837),\n",
              " ('el', 7811),\n",
              " ('slim', 7103),\n",
              " ('rabi', 6479),\n",
              " ('si', 3631),\n",
              " ('ca', 3144),\n",
              " ('l', 3125),\n",
              " ('kol', 3093),\n",
              " ('bech', 2994),\n",
              " ('bravo', 2929),\n",
              " ('m3ak', 2749),\n",
              " ('ma', 2727),\n",
              " ('3la', 2712),\n",
              " ('ken', 2651),\n",
              " ('la', 2611),\n",
              " ('allah', 2523),\n",
              " ('slouma', 2252),\n",
              " ('men', 2160),\n",
              " ('il', 2148),\n",
              " ('ou', 2145),\n",
              " ('eli', 1951),\n",
              " ('a', 1866),\n",
              " ('le', 1808),\n",
              " ('rabbi', 1776),\n",
              " ('ama', 1715),\n",
              " ('b', 1627),\n",
              " ('barcha', 1554),\n",
              " ('et', 1546),\n",
              " ('enti', 1465),\n",
              " ('min', 1444),\n",
              " ('mabrouk', 1418),\n",
              " ('3ala', 1417),\n",
              " ('dima', 1413),\n",
              " ('ki', 1370),\n",
              " ('tounes', 1335),\n",
              " ('f', 1335),\n",
              " ('wa', 1322),\n",
              " ('fih', 1313),\n",
              " ('tawa', 1307),\n",
              " ('we', 1276),\n",
              " ('fil', 1269),\n",
              " ('elli', 1260),\n",
              " ('li', 1246),\n",
              " ('y', 1240),\n",
              " ('riahi', 1235),\n",
              " ('les', 1217),\n",
              " ('chay', 1180),\n",
              " ('mouch', 1174),\n",
              " ('de', 1157),\n",
              " ('ena', 1151),\n",
              " ('c', 1130),\n",
              " ('club', 1112),\n",
              " ('ti', 1097),\n",
              " ('brabi', 1090),\n",
              " ('3lik', 1082),\n",
              " ('3am', 1079),\n",
              " ('ana', 1079),\n",
              " ('m3a', 1066),\n",
              " ('ye', 1045),\n",
              " ('mala', 1033),\n",
              " ('fel', 1023),\n",
              " ('taw', 1011),\n",
              " ('ili', 965),\n",
              " ('chkoun', 957),\n",
              " ('kan', 924),\n",
              " ('kima', 915),\n",
              " ('ala', 900),\n",
              " ('5ir', 896),\n",
              " ('wala', 890),\n",
              " ('kif', 884),\n",
              " ('en', 864),\n",
              " ('nchallah', 857),\n",
              " ('3al', 852),\n",
              " ('rajel', 850),\n",
              " ('inti', 834),\n",
              " ('m3alem', 819),\n",
              " ('bel', 808),\n",
              " ('o', 803),\n",
              " ('a7na', 801),\n",
              " ('mta3', 799),\n",
              " ('inchallah', 798),\n",
              " ('wlh', 768),\n",
              " ('j', 753),\n",
              " ('bara', 742),\n",
              " ('al', 740),\n",
              " ('wel', 726),\n",
              " ('est', 726),\n",
              " ('7aja', 721),\n",
              " ('hhhh', 714),\n",
              " ('cha3b', 712),\n",
              " ('mel', 707),\n",
              " ('lkol', 705),\n",
              " ('ben', 702),\n",
              " ('howa', 693),\n",
              " ('haka', 685),\n",
              " ('lel', 684),\n",
              " ('d', 677),\n",
              " ('fik', 676)]"
            ]
          },
          "metadata": {
            "tags": []
          },
          "execution_count": 10
        }
      ]
    },
    {
      "cell_type": "code",
      "metadata": {
        "colab": {
          "base_uri": "https://localhost:8080/"
        },
        "id": "9tDYatvxvI_-",
        "outputId": "15705303-d1c7-4554-aad9-8c2d36e0c64d"
      },
      "source": [
        "## MANDATORY \r\n",
        "## [CLASSIFY] Train test Split\r\n",
        "\r\n",
        "from sklearn.model_selection import train_test_split\r\n",
        "\r\n",
        "list_corpus = train[\"text\"]\r\n",
        "list_labels = train[\"label\"]\r\n",
        "\r\n",
        "X_train, X_test, y_train, y_test = train_test_split(list_corpus, list_labels, test_size=0.2, random_state=40)\r\n",
        "\r\n",
        "print(\"Training set: %d samples\" % len(X_train))\r\n",
        "print(\"Test set: %d samples\" % len(X_test))"
      ],
      "execution_count": null,
      "outputs": [
        {
          "output_type": "stream",
          "text": [
            "Training set: 56000 samples\n",
            "Test set: 14000 samples\n"
          ],
          "name": "stdout"
        }
      ]
    },
    {
      "cell_type": "code",
      "metadata": {
        "colab": {
          "base_uri": "https://localhost:8080/"
        },
        "id": "15zr4fMovI6h",
        "outputId": "60a2a9d5-452c-435d-d8c2-b3c15462aaf3"
      },
      "source": [
        "print (X_train[:10])"
      ],
      "execution_count": null,
      "outputs": [
        {
          "output_type": "stream",
          "text": [
            "49080                a5er 5 zanatir yhbo lfri9i hhhhhhhhhh\n",
            "67942    raïs el hana wrkad fijebbena balouut kbir lour...\n",
            "25821                très bien mr slim nchallah rabi m3ana\n",
            "51736                                   7amza rabi yechfik\n",
            "32442                       taaiich lklab fi rouh lmjannen\n",
            "27816                                      ey we aasba lik\n",
            "1438                                          chapeau kais\n",
            "56110                         emission sex bravo lil haika\n",
            "4649                                          alah yarehma\n",
            "14035          bravo si slim we khatibennas bima yefhamoun\n",
            "Name: text, dtype: object\n"
          ],
          "name": "stdout"
        }
      ]
    },
    {
      "cell_type": "code",
      "metadata": {
        "colab": {
          "base_uri": "https://localhost:8080/"
        },
        "id": "P7VlHn-3w3XZ",
        "outputId": "6130552e-7bf3-4887-e7e4-8fc0d5eccd39"
      },
      "source": [
        "## [CLASSIFY] Check the Training Labels\r\n",
        "\r\n",
        "print (y_train[:10])"
      ],
      "execution_count": null,
      "outputs": [
        {
          "output_type": "stream",
          "text": [
            "49080   -1\n",
            "67942   -1\n",
            "25821    1\n",
            "51736    1\n",
            "32442   -1\n",
            "27816   -1\n",
            "1438     1\n",
            "56110   -1\n",
            "4649     1\n",
            "14035    1\n",
            "Name: label, dtype: int64\n"
          ],
          "name": "stdout"
        }
      ]
    },
    {
      "cell_type": "code",
      "metadata": {
        "colab": {
          "base_uri": "https://localhost:8080/"
        },
        "id": "pRtkgAWtw3VS",
        "outputId": "590b996c-de2a-4e12-9605-93a20626d311"
      },
      "source": [
        "## MANDATORY FOR BOW EMBEDDING\r\n",
        "## [EMBEDDING] Tranform Tweets to BOW Embedding\r\n",
        "\r\n",
        "from sklearn.feature_extraction.text import CountVectorizer\r\n",
        "\r\n",
        "count_vectorizer = CountVectorizer(analyzer='word', token_pattern=r'\\w+')\r\n",
        "\r\n",
        "bow = dict()\r\n",
        "bow[\"train\"] = (count_vectorizer.fit_transform(X_train), y_train)\r\n",
        "bow[\"test\"]  = (count_vectorizer.transform(X_test), y_test)\r\n",
        "print(bow[\"train\"][0].shape)\r\n",
        "print(bow[\"test\"][0].shape)"
      ],
      "execution_count": null,
      "outputs": [
        {
          "output_type": "stream",
          "text": [
            "(56000, 122497)\n",
            "(14000, 122497)\n"
          ],
          "name": "stdout"
        }
      ]
    },
    {
      "cell_type": "code",
      "metadata": {
        "colab": {
          "base_uri": "https://localhost:8080/"
        },
        "id": "aQwAqU1Jw3TQ",
        "outputId": "a80e2890-5a54-4f20-d020-7351d3ff198b"
      },
      "source": [
        "from sklearn.feature_extraction.text import TfidfVectorizer\r\n",
        "\r\n",
        "tfidf_vectorizer = TfidfVectorizer(analyzer='word', token_pattern=r'\\w+')\r\n",
        "\r\n",
        "tfidf = dict()\r\n",
        "tfidf[\"train\"] = (tfidf_vectorizer.fit_transform(X_train))\r\n",
        "tfidf[\"test\"]  = (tfidf_vectorizer.transform(X_test))\r\n",
        "\r\n",
        "print(tfidf[\"train\"][0].shape)\r\n",
        "print(tfidf[\"test\"][0].shape)"
      ],
      "execution_count": null,
      "outputs": [
        {
          "output_type": "stream",
          "text": [
            "(1, 122497)\n",
            "(1, 122497)\n"
          ],
          "name": "stdout"
        }
      ]
    },
    {
      "cell_type": "code",
      "metadata": {
        "colab": {
          "base_uri": "https://localhost:8080/"
        },
        "id": "8pzOXMN-w3Po",
        "outputId": "0afa23d1-4b9d-4bf7-a8d7-048a394df96a"
      },
      "source": [
        "from sklearn.linear_model import LogisticRegression\r\n",
        "\r\n",
        "lr_classifier = LogisticRegression(C=30.0, class_weight='balanced', solver='newton-cg', \r\n",
        "                         multi_class='multinomial', random_state=40)\r\n",
        "\r\n",
        "print ('DONE - [CLASSIFY] Initialize Logistic Regression')"
      ],
      "execution_count": null,
      "outputs": [
        {
          "output_type": "stream",
          "text": [
            "DONE - [CLASSIFY] Initialize Logistic Regression\n"
          ],
          "name": "stdout"
        }
      ]
    },
    {
      "cell_type": "code",
      "metadata": {
        "colab": {
          "base_uri": "https://localhost:8080/"
        },
        "id": "uWgIByVrw3Lo",
        "outputId": "e54167ea-5ef6-4deb-d66a-f37f6131ae2b"
      },
      "source": [
        "from sklearn.svm import LinearSVC\r\n",
        "\r\n",
        "lsvm_classifier = LinearSVC(C=1.0, class_weight='balanced', multi_class='ovr', random_state=40)\r\n",
        "\r\n",
        "print ('[CLASSIFY] Initialize Support Vector Machine Classifier')"
      ],
      "execution_count": null,
      "outputs": [
        {
          "output_type": "stream",
          "text": [
            "[CLASSIFY] Initialize Support Vector Machine Classifier\n"
          ],
          "name": "stdout"
        }
      ]
    },
    {
      "cell_type": "code",
      "metadata": {
        "colab": {
          "base_uri": "https://localhost:8080/"
        },
        "id": "_vR8g4wVw3Jd",
        "outputId": "a418af9b-cdf3-4a8b-85e4-22c39e834920"
      },
      "source": [
        "from sklearn.naive_bayes import MultinomialNB\r\n",
        "\r\n",
        "nb_classifier = MultinomialNB()\r\n",
        "\r\n",
        "print ('DONE - [CLASSIFY] Initialize Naive Bayes')"
      ],
      "execution_count": null,
      "outputs": [
        {
          "output_type": "stream",
          "text": [
            "DONE - [CLASSIFY] Initialize Naive Bayes\n"
          ],
          "name": "stdout"
        }
      ]
    },
    {
      "cell_type": "code",
      "metadata": {
        "colab": {
          "base_uri": "https://localhost:8080/"
        },
        "id": "_TjkvQB6w3Ho",
        "outputId": "34a4ac97-40c0-4364-c6ed-a42e11366bfa"
      },
      "source": [
        "from sklearn.tree import DecisionTreeClassifier\r\n",
        "\r\n",
        "dt_classifier = DecisionTreeClassifier(criterion = \"entropy\", random_state = 100,\r\n",
        " max_depth=3, min_samples_leaf=5)\r\n",
        "\r\n",
        "print ('DONE - [CLASSIFY] Initialize Decision Tree')"
      ],
      "execution_count": null,
      "outputs": [
        {
          "output_type": "stream",
          "text": [
            "DONE - [CLASSIFY] Initialize Decision Tree\n"
          ],
          "name": "stdout"
        }
      ]
    },
    {
      "cell_type": "code",
      "metadata": {
        "id": "900xIxZ0w3FB"
      },
      "source": [
        "from sklearn.ensemble import AdaBoostClassifier\r\n",
        "ada_classifier = AdaBoostClassifier(n_estimators=100, random_state=0)"
      ],
      "execution_count": null,
      "outputs": []
    },
    {
      "cell_type": "code",
      "metadata": {
        "id": "Najn8PRT3u3W"
      },
      "source": [
        "from sklearn.linear_model import SGDClassifier\r\n",
        "\r\n",
        "sgd_classifier =SGDClassifier(loss='hinge', penalty='l2',alpha=1e-3, random_state=42, max_iter=5, tol=None)"
      ],
      "execution_count": null,
      "outputs": []
    },
    {
      "cell_type": "code",
      "metadata": {
        "id": "d2T1gM23xNQA"
      },
      "source": [
        "from xgboost import XGBClassifier\r\n",
        "xgb_classifier = XGBClassifier(random_state=42, seed=2, colsample_bytree=0.6, subsample=0.7)"
      ],
      "execution_count": null,
      "outputs": []
    },
    {
      "cell_type": "code",
      "metadata": {
        "id": "GQkBlXpNxNNo"
      },
      "source": [
        "from sklearn.ensemble import RandomForestClassifier\r\n",
        "random_classifier= RandomForestClassifier(n_estimators=200,criterion='entropy')"
      ],
      "execution_count": null,
      "outputs": []
    },
    {
      "cell_type": "code",
      "metadata": {
        "colab": {
          "base_uri": "https://localhost:8080/"
        },
        "id": "wUiIRJC3xNKp",
        "outputId": "3d17a300-c7ca-45b7-efbe-80c0db62069b"
      },
      "source": [
        "from sklearn.metrics import accuracy_score, f1_score, precision_score, recall_score, classification_report\r\n",
        "\r\n",
        "def get_metrics(y_test, y_predicted):  \r\n",
        "    # true positives / (true positives+false positives)\r\n",
        "    precision = precision_score(y_test, y_predicted, pos_label=None,\r\n",
        "                                    average='weighted')             \r\n",
        "    # true positives / (true positives + false negatives)\r\n",
        "    recall = recall_score(y_test, y_predicted, pos_label=None,\r\n",
        "                              average='weighted')\r\n",
        "    \r\n",
        "    # harmonic mean of precision and recall\r\n",
        "    f1 = f1_score(y_test, y_predicted, pos_label=None, average='weighted')\r\n",
        "    \r\n",
        "    # true positives + true negatives/ total\r\n",
        "    accuracy = accuracy_score(y_test, y_predicted)\r\n",
        "    return accuracy, precision, recall, f1\r\n",
        "\r\n",
        "print ('DONE - [EVALUATE] Prepare Metrics')"
      ],
      "execution_count": null,
      "outputs": [
        {
          "output_type": "stream",
          "text": [
            "DONE - [EVALUATE] Prepare Metrics\n"
          ],
          "name": "stdout"
        }
      ]
    },
    {
      "cell_type": "code",
      "metadata": {
        "colab": {
          "base_uri": "https://localhost:8080/"
        },
        "id": "GsTSuQKExNGb",
        "outputId": "b62faf72-bb5d-4e3c-961c-eb0faf304297"
      },
      "source": [
        "from sklearn.metrics import confusion_matrix\r\n",
        "\r\n",
        "def plot_confusion_matrix(cm, classes,\r\n",
        "                          normalize=False,\r\n",
        "                          title='Confusion matrix',\r\n",
        "                          cmap=plt.cm.winter):\r\n",
        "    if normalize:\r\n",
        "        cm = cm.astype('float') / cm.sum(axis=1)[:, np.newaxis]\r\n",
        "    plt.imshow(cm, interpolation='nearest', cmap=cmap)\r\n",
        "    plt.title(title, fontsize=30)\r\n",
        "    plt.colorbar()\r\n",
        "    tick_marks = np.arange(len(classes))\r\n",
        "    plt.xticks(tick_marks, classes, fontsize=20)\r\n",
        "    plt.yticks(tick_marks, classes, fontsize=20)\r\n",
        "    \r\n",
        "    fmt = '.2f' if normalize else 'd'\r\n",
        "    thresh = cm.max() / 2.\r\n",
        "\r\n",
        "    for i, j in itertools.product(range(cm.shape[0]), range(cm.shape[1])):\r\n",
        "        plt.text(j, i, format(cm[i, j], fmt), horizontalalignment=\"center\", \r\n",
        "                 color=\"white\" if cm[i, j] < thresh else \"black\", fontsize=40)\r\n",
        "    \r\n",
        "    plt.tight_layout()\r\n",
        "    plt.ylabel('True label', fontsize=30)\r\n",
        "    plt.xlabel('Predicted label', fontsize=30)\r\n",
        "\r\n",
        "    return plt\r\n",
        "\r\n",
        "print ('DONE - [EVALUATE] Confusion Matrix')"
      ],
      "execution_count": null,
      "outputs": [
        {
          "output_type": "stream",
          "text": [
            "DONE - [EVALUATE] Confusion Matrix\n"
          ],
          "name": "stdout"
        }
      ]
    },
    {
      "cell_type": "code",
      "metadata": {
        "id": "cl0MIhn4xND3"
      },
      "source": [
        "embedding = bow"
      ],
      "execution_count": null,
      "outputs": []
    },
    {
      "cell_type": "code",
      "metadata": {
        "id": "u2ULHmpHFDA0"
      },
      "source": [
        "from sklearn.ensemble import VotingClassifier"
      ],
      "execution_count": null,
      "outputs": []
    },
    {
      "cell_type": "markdown",
      "metadata": {
        "id": "H6HjfZqPxdj3"
      },
      "source": [
        "**MODELE**"
      ]
    },
    {
      "cell_type": "code",
      "metadata": {
        "id": "sx27P1CcxaVW"
      },
      "source": [
        "#classifier2 = nb_classifier "
      ],
      "execution_count": null,
      "outputs": []
    },
    {
      "cell_type": "code",
      "metadata": {
        "id": "u9QsYBWjEp_M"
      },
      "source": [
        "classifier = sgd_classifier"
      ],
      "execution_count": null,
      "outputs": []
    },
    {
      "cell_type": "code",
      "metadata": {
        "id": "697pYBDIxaSO",
        "colab": {
          "base_uri": "https://localhost:8080/"
        },
        "outputId": "a1f3ebb9-4bc4-4686-a90a-3e00d3acadd7"
      },
      "source": [
        "classifier.fit(*embedding[\"train\"])\r\n",
        "y_predict = classifier.predict(embedding[\"test\"][0])\r\n",
        "print ('DONE - [CLASSIFY] Train Classifier on Embeddings')"
      ],
      "execution_count": null,
      "outputs": [
        {
          "output_type": "stream",
          "text": [
            "DONE - [CLASSIFY] Train Classifier on Embeddings\n"
          ],
          "name": "stdout"
        }
      ]
    },
    {
      "cell_type": "code",
      "metadata": {
        "id": "dYdSEqUBEsL8"
      },
      "source": [
        "#classifier2.fit(*embedding[\"train\"])\r\n",
        "#y_predict2 = classifier2.predict(embedding[\"test\"][0])\r\n",
        "#print ('DONE - [CLASSIFY] Train Classifier on Embeddings')"
      ],
      "execution_count": null,
      "outputs": []
    },
    {
      "cell_type": "code",
      "metadata": {
        "id": "XMCKW26qEiZD"
      },
      "source": [
        "#est_Ensemble = VotingClassifier(estimators=[('AB', classifier), ('RF', classifier2)],\r\n",
        "                       # voting='hard',\r\n",
        "                        #weights=[1, 1])\r\n",
        "\r\n",
        "#score_Ensemble=est_Ensemble.fit(*embedding[\"train\"])\r\n",
        "#y_predict = est_Ensemble.predict(embedding[\"test\"][0])"
      ],
      "execution_count": null,
      "outputs": []
    },
    {
      "cell_type": "code",
      "metadata": {
        "colab": {
          "base_uri": "https://localhost:8080/"
        },
        "id": "3lDrdfVSnRkF",
        "outputId": "f7fea763-174f-4b60-8771-342b086abaee"
      },
      "source": [
        "print (embedding[\"test\"][0])"
      ],
      "execution_count": null,
      "outputs": [
        {
          "output_type": "stream",
          "text": [
            "  (0, 59658)\t1\n",
            "  (0, 89510)\t1\n",
            "  (1, 1122)\t1\n",
            "  (1, 11702)\t1\n",
            "  (1, 17116)\t1\n",
            "  (1, 21418)\t1\n",
            "  (1, 26902)\t1\n",
            "  (1, 37236)\t1\n",
            "  (1, 37433)\t1\n",
            "  (1, 42092)\t1\n",
            "  (1, 57990)\t1\n",
            "  (1, 72977)\t2\n",
            "  (1, 90544)\t1\n",
            "  (1, 107767)\t1\n",
            "  (1, 108080)\t1\n",
            "  (1, 117427)\t1\n",
            "  (2, 34201)\t1\n",
            "  (2, 38282)\t1\n",
            "  (2, 91629)\t1\n",
            "  (2, 92155)\t1\n",
            "  (2, 103884)\t1\n",
            "  (2, 105304)\t1\n",
            "  (3, 11839)\t1\n",
            "  (3, 11841)\t1\n",
            "  (3, 20148)\t1\n",
            "  :\t:\n",
            "  (13994, 92155)\t1\n",
            "  (13994, 105374)\t1\n",
            "  (13994, 105759)\t1\n",
            "  (13995, 46)\t1\n",
            "  (13995, 67131)\t1\n",
            "  (13995, 105374)\t1\n",
            "  (13996, 7884)\t1\n",
            "  (13996, 11652)\t1\n",
            "  (13996, 42221)\t1\n",
            "  (13996, 66340)\t1\n",
            "  (13996, 75982)\t1\n",
            "  (13997, 1411)\t1\n",
            "  (13997, 13421)\t1\n",
            "  (13997, 13508)\t1\n",
            "  (13997, 51041)\t1\n",
            "  (13997, 91670)\t1\n",
            "  (13997, 105702)\t1\n",
            "  (13998, 37236)\t1\n",
            "  (13998, 58896)\t1\n",
            "  (13998, 91125)\t1\n",
            "  (13998, 104094)\t1\n",
            "  (13999, 40728)\t1\n",
            "  (13999, 46389)\t1\n",
            "  (13999, 65427)\t1\n",
            "  (13999, 109334)\t1\n"
          ],
          "name": "stdout"
        }
      ]
    },
    {
      "cell_type": "code",
      "metadata": {
        "colab": {
          "base_uri": "https://localhost:8080/"
        },
        "id": "hoyTyzazxaNt",
        "outputId": "f8c07858-5dc5-4b05-bc62-84e40bf1dd43"
      },
      "source": [
        "accuracy, precision, recall, f1 = get_metrics(embedding[\"test\"][1], y_predict)\r\n",
        "print(\"accuracy = %.3f, precision = %.3f, recall = %.3f, f1 = %.3f\" % (accuracy, precision, recall, f1))"
      ],
      "execution_count": null,
      "outputs": [
        {
          "output_type": "stream",
          "text": [
            "accuracy = 0.749, precision = 0.759, recall = 0.749, f1 = 0.734\n"
          ],
          "name": "stdout"
        }
      ]
    },
    {
      "cell_type": "code",
      "metadata": {
        "colab": {
          "base_uri": "https://localhost:8080/",
          "height": 729
        },
        "id": "dyk5dvVrxaJH",
        "outputId": "48de5296-e2db-4c69-8cc3-8828ecd93a57"
      },
      "source": [
        "cm = confusion_matrix(embedding[\"test\"][1], y_predict)\r\n",
        "fig = plt.figure(figsize=(10, 10))\r\n",
        "plot = plot_confusion_matrix(cm, classes=['-1','0', '1'], normalize=False, title='Confusion Matrix')\r\n",
        "plt.show()"
      ],
      "execution_count": null,
      "outputs": [
        {
          "output_type": "display_data",
          "data": {
            "image/png": "[encoded data removed]",
            "text/plain": [
              "<Figure size 720x720 with 2 Axes>"
            ]
          },
          "metadata": {
            "tags": [],
            "needs_background": "light"
          }
        }
      ]
    },
    {
      "cell_type": "code",
      "metadata": {
        "id": "EAkLVBh11ETQ"
      },
      "source": [
        "test_X=pd.read_csv('/content/drive/MyDrive/zindi/icompass/Test.csv')\r\n",
        "test_corpus = test_X[\"text\"]\r\n",
        "test_Id = test_X[\"ID\"]"
      ],
      "execution_count": null,
      "outputs": []
    },
    {
      "cell_type": "code",
      "metadata": {
        "id": "6eGR2Z_XxaCB"
      },
      "source": [
        "test_corpus = test_X[\"text\"]\r\n",
        "test_Id = test_X[\"ID\"]"
      ],
      "execution_count": null,
      "outputs": []
    },
    {
      "cell_type": "code",
      "metadata": {
        "id": "frUqopuDxZ_P"
      },
      "source": [
        "test_corpus_tokens = test_corpus.apply(tokenizer.tokenize)"
      ],
      "execution_count": null,
      "outputs": []
    },
    {
      "cell_type": "code",
      "metadata": {
        "colab": {
          "base_uri": "https://localhost:8080/"
        },
        "id": "CrDS2MR12T9e",
        "outputId": "7b3cd556-0026-4624-ef47-32f0006dfc15"
      },
      "source": [
        "test_corpus_tokens.head()"
      ],
      "execution_count": null,
      "outputs": [
        {
          "output_type": "execute_result",
          "data": {
            "text/plain": [
              "0    [barcha, aaindou, fiha, hak, w, barcha, teflim...\n",
              "1                            [ye, gernabou, ye, 9a7ba]\n",
              "2                [saber, w, barra, rabbi, m3ak, 5ouya]\n",
              "3             [cha3ébbb, ta7aaaaannnnnnnnnnn, tfouuhh]\n",
              "4    [rabi, y5alihoulek, w, yfar7ek, bih, w, inchal...\n",
              "Name: text, dtype: object"
            ]
          },
          "metadata": {
            "tags": []
          },
          "execution_count": 39
        }
      ]
    },
    {
      "cell_type": "code",
      "metadata": {
        "colab": {
          "base_uri": "https://localhost:8080/"
        },
        "id": "pXV1EI_31kHa",
        "outputId": "7e0ac9c2-97bd-4578-e344-e9676feb8c84"
      },
      "source": [
        "vectorized_text = dict()\r\n",
        "vectorized_text['test']  = (count_vectorizer.transform(test_corpus))  # see options in the above cell\r\n",
        "\r\n",
        "print ('DONE - [EMBEDDING] Apply Chosen Embeddings to the Tweets')"
      ],
      "execution_count": null,
      "outputs": [
        {
          "output_type": "stream",
          "text": [
            "DONE - [EMBEDDING] Apply Chosen Embeddings to the Tweets\n"
          ],
          "name": "stdout"
        }
      ]
    },
    {
      "cell_type": "markdown",
      "metadata": {
        "id": "ZRCh7RMsxw1m"
      },
      "source": [
        "**TEST**"
      ]
    },
    {
      "cell_type": "code",
      "metadata": {
        "id": "4F2deMIyxo-P"
      },
      "source": [
        "embedding = vectorized_text                \r\n",
        "classifier = sgd_classifier    # lr_classifier | lsvm_classifier | nb_classifier | dt_classifier\r\n",
        "predicted_sentiment = classifier.predict(embedding['test']).tolist()\r\n"
      ],
      "execution_count": null,
      "outputs": []
    },
    {
      "cell_type": "code",
      "metadata": {
        "id": "kfT0yhdl2SPP"
      },
      "source": [
        ""
      ],
      "execution_count": null,
      "outputs": []
    },
    {
      "cell_type": "code",
      "metadata": {
        "id": "BLvzH8u4xo7_"
      },
      "source": [
        "results = pd.DataFrame(\r\n",
        "    {'Id': test_Id,\r\n",
        "     'label': predicted_sentiment\r\n",
        "    })\r\n",
        "results.to_csv('submission6.csv', index=False)"
      ],
      "execution_count": null,
      "outputs": []
    },
    {
      "cell_type": "code",
      "metadata": {
        "id": "D4jKFm5bw1lK"
      },
      "source": [
        ""
      ],
      "execution_count": null,
      "outputs": []
    },
    {
      "cell_type": "code",
      "metadata": {
        "id": "MHZs_Odkxo5f",
        "colab": {
          "base_uri": "https://localhost:8080/",
          "height": 195
        },
        "outputId": "dad79b10-03c0-45e3-8d5a-016d57dfbd8a"
      },
      "source": [
        "results.head()"
      ],
      "execution_count": null,
      "outputs": [
        {
          "output_type": "execute_result",
          "data": {
            "text/html": [
              "<div>\n",
              "<style scoped>\n",
              "    .dataframe tbody tr th:only-of-type {\n",
              "        vertical-align: middle;\n",
              "    }\n",
              "\n",
              "    .dataframe tbody tr th {\n",
              "        vertical-align: top;\n",
              "    }\n",
              "\n",
              "    .dataframe thead th {\n",
              "        text-align: right;\n",
              "    }\n",
              "</style>\n",
              "<table border=\"1\" class=\"dataframe\">\n",
              "  <thead>\n",
              "    <tr style=\"text-align: right;\">\n",
              "      <th></th>\n",
              "      <th>Id</th>\n",
              "      <th>label</th>\n",
              "    </tr>\n",
              "  </thead>\n",
              "  <tbody>\n",
              "    <tr>\n",
              "      <th>0</th>\n",
              "      <td>2DDHQW9</td>\n",
              "      <td>1</td>\n",
              "    </tr>\n",
              "    <tr>\n",
              "      <th>1</th>\n",
              "      <td>5HY6UEY</td>\n",
              "      <td>-1</td>\n",
              "    </tr>\n",
              "    <tr>\n",
              "      <th>2</th>\n",
              "      <td>ATNVUJX</td>\n",
              "      <td>1</td>\n",
              "    </tr>\n",
              "    <tr>\n",
              "      <th>3</th>\n",
              "      <td>Q9XYVOQ</td>\n",
              "      <td>1</td>\n",
              "    </tr>\n",
              "    <tr>\n",
              "      <th>4</th>\n",
              "      <td>TOAHLRH</td>\n",
              "      <td>1</td>\n",
              "    </tr>\n",
              "  </tbody>\n",
              "</table>\n",
              "</div>"
            ],
            "text/plain": [
              "        Id  label\n",
              "0  2DDHQW9      1\n",
              "1  5HY6UEY     -1\n",
              "2  ATNVUJX      1\n",
              "3  Q9XYVOQ      1\n",
              "4  TOAHLRH      1"
            ]
          },
          "metadata": {
            "tags": []
          },
          "execution_count": 46
        }
      ]
    }
  ]
}